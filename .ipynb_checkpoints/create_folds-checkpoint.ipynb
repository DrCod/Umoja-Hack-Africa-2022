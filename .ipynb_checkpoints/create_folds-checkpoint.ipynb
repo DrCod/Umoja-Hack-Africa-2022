{
 "cells": [
  {
   "cell_type": "code",
   "execution_count": null,
   "id": "7b13e624",
   "metadata": {},
   "outputs": [],
   "source": [
    "from sklearn.model_selection import StratifiedGroupKFold\n",
    "\n",
    "\n",
    "\n",
    "train_df = pd.read_csv(\"https://storage.googleapis.com/umojahack2022/train.csv\")\n",
    "\n",
    "\n",
    "num_bins = int(np.floor(1+(3.3)*(np.log2(len(train_df)))))\n",
    "\n",
    "train_df['bins'] = pd.cut(train_df['Signal'], bins=num_bins, labels=False)\n",
    "train_df['bins'].hist()\n"
   ]
  },
  {
   "cell_type": "code",
   "execution_count": null,
   "id": "8b3804b0",
   "metadata": {},
   "outputs": [],
   "source": [
    "train_df['fold'] = -1\n",
    "\n",
    "groups = np.array(train_df['Toxin_UniprotID'].values)\n",
    "\n",
    "N_FOLDS = 5\n",
    "strat_kfold = StratifiedGroupKFold(n_splits=N_FOLDS, random_state=42, shuffle=True)\n",
    "for i, (_, train_index) in enumerate(strat_kfold.split(train_df.index, train_df['bins'], groups=groups)):\n",
    "    train_df.iloc[train_index, -1] = i\n",
    "    \n",
    "train_df['fold'] = train_df['fold'].astype('int')\n",
    "\n",
    "train_df.fold.value_counts().plot.bar()"
   ]
  },
  {
   "cell_type": "code",
   "execution_count": null,
   "id": "5e61177c",
   "metadata": {},
   "outputs": [],
   "source": [
    "train_df.to_csv('./folds/train_folds.csv', index=False)"
   ]
  }
 ],
 "metadata": {
  "kernelspec": {
   "display_name": "Python 3",
   "language": "python",
   "name": "python3"
  },
  "language_info": {
   "codemirror_mode": {
    "name": "ipython",
    "version": 3
   },
   "file_extension": ".py",
   "mimetype": "text/x-python",
   "name": "python",
   "nbconvert_exporter": "python",
   "pygments_lexer": "ipython3",
   "version": "3.8.8"
  }
 },
 "nbformat": 4,
 "nbformat_minor": 5
}
