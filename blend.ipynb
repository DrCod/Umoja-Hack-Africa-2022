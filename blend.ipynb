{
 "cells": [
  {
   "cell_type": "code",
   "execution_count": null,
   "id": "11910baa",
   "metadata": {},
   "outputs": [],
   "source": [
    "import pandas as pd\n",
    "\n",
    "\n",
    "sub1 = pd.read_csv('./submissions/sub1.csv')\n",
    "sub2 = pd.read_csv('./submissions/sub2.csv')\n",
    "\n",
    "\n",
    "sub1['Signal'] = (sub1['Signal'] + sub2['Signal'])/2 # simple averaging"
   ]
  },
  {
   "cell_type": "code",
   "execution_count": null,
   "id": "616535d5",
   "metadata": {},
   "outputs": [],
   "source": [
    "sub1.to_csv('./submissions/blend.csv', index=False)\n",
    "\n",
    "#END."
   ]
  }
 ],
 "metadata": {
  "kernelspec": {
   "display_name": "Python 3",
   "language": "python",
   "name": "python3"
  },
  "language_info": {
   "codemirror_mode": {
    "name": "ipython",
    "version": 3
   },
   "file_extension": ".py",
   "mimetype": "text/x-python",
   "name": "python",
   "nbconvert_exporter": "python",
   "pygments_lexer": "ipython3",
   "version": "3.8.8"
  }
 },
 "nbformat": 4,
 "nbformat_minor": 5
}
